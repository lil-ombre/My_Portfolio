{
 "cells": [
  {
   "cell_type": "code",
   "execution_count": 1,
   "id": "e9b61803-5d45-4539-837d-f23cc7f19d87",
   "metadata": {},
   "outputs": [],
   "source": [
    "import pandas as pd\n",
    "import numpy as np\n",
    "import matplotlib.pyplot as plt"
   ]
  },
  {
   "cell_type": "code",
   "execution_count": 2,
   "id": "8b1d6201-04c0-4b64-a874-74b60ce0af06",
   "metadata": {},
   "outputs": [
    {
     "data": {
      "text/html": [
       "<div>\n",
       "<style scoped>\n",
       "    .dataframe tbody tr th:only-of-type {\n",
       "        vertical-align: middle;\n",
       "    }\n",
       "\n",
       "    .dataframe tbody tr th {\n",
       "        vertical-align: top;\n",
       "    }\n",
       "\n",
       "    .dataframe thead th {\n",
       "        text-align: right;\n",
       "    }\n",
       "</style>\n",
       "<table border=\"1\" class=\"dataframe\">\n",
       "  <thead>\n",
       "    <tr style=\"text-align: right;\">\n",
       "      <th></th>\n",
       "      <th>_id</th>\n",
       "      <th>date</th>\n",
       "      <th>site</th>\n",
       "      <th>parameter</th>\n",
       "      <th>index_value</th>\n",
       "      <th>description</th>\n",
       "      <th>health_advisory</th>\n",
       "      <th>health_effects</th>\n",
       "    </tr>\n",
       "  </thead>\n",
       "  <tbody>\n",
       "    <tr>\n",
       "      <th>0</th>\n",
       "      <td>1</td>\n",
       "      <td>2016-01-01</td>\n",
       "      <td>Lawrenceville</td>\n",
       "      <td>PM25B</td>\n",
       "      <td>25</td>\n",
       "      <td>Good</td>\n",
       "      <td>NaN</td>\n",
       "      <td>NaN</td>\n",
       "    </tr>\n",
       "    <tr>\n",
       "      <th>1</th>\n",
       "      <td>2</td>\n",
       "      <td>2016-01-01</td>\n",
       "      <td>Flag Plaza</td>\n",
       "      <td>CO</td>\n",
       "      <td>0</td>\n",
       "      <td>Good</td>\n",
       "      <td>NaN</td>\n",
       "      <td>NaN</td>\n",
       "    </tr>\n",
       "    <tr>\n",
       "      <th>2</th>\n",
       "      <td>3</td>\n",
       "      <td>2016-01-01</td>\n",
       "      <td>Harrison Township</td>\n",
       "      <td>OZONE</td>\n",
       "      <td>31</td>\n",
       "      <td>Good</td>\n",
       "      <td>NaN</td>\n",
       "      <td>NaN</td>\n",
       "    </tr>\n",
       "    <tr>\n",
       "      <th>3</th>\n",
       "      <td>4</td>\n",
       "      <td>2016-01-01</td>\n",
       "      <td>Avalon</td>\n",
       "      <td>SO2</td>\n",
       "      <td>10</td>\n",
       "      <td>Good</td>\n",
       "      <td>NaN</td>\n",
       "      <td>NaN</td>\n",
       "    </tr>\n",
       "    <tr>\n",
       "      <th>4</th>\n",
       "      <td>5</td>\n",
       "      <td>2016-01-01</td>\n",
       "      <td>Lincoln</td>\n",
       "      <td>PM25</td>\n",
       "      <td>35</td>\n",
       "      <td>Good</td>\n",
       "      <td>NaN</td>\n",
       "      <td>NaN</td>\n",
       "    </tr>\n",
       "    <tr>\n",
       "      <th>...</th>\n",
       "      <td>...</td>\n",
       "      <td>...</td>\n",
       "      <td>...</td>\n",
       "      <td>...</td>\n",
       "      <td>...</td>\n",
       "      <td>...</td>\n",
       "      <td>...</td>\n",
       "      <td>...</td>\n",
       "    </tr>\n",
       "    <tr>\n",
       "      <th>74925</th>\n",
       "      <td>88689</td>\n",
       "      <td>2025-04-23</td>\n",
       "      <td>Clairton</td>\n",
       "      <td>PM25_640</td>\n",
       "      <td>37</td>\n",
       "      <td>Good</td>\n",
       "      <td>NaN</td>\n",
       "      <td>NaN</td>\n",
       "    </tr>\n",
       "    <tr>\n",
       "      <th>74926</th>\n",
       "      <td>88690</td>\n",
       "      <td>2025-04-23</td>\n",
       "      <td>Liberty 2</td>\n",
       "      <td>PM25_640</td>\n",
       "      <td>46</td>\n",
       "      <td>Good</td>\n",
       "      <td>NaN</td>\n",
       "      <td>NaN</td>\n",
       "    </tr>\n",
       "    <tr>\n",
       "      <th>74927</th>\n",
       "      <td>88691</td>\n",
       "      <td>2025-04-23</td>\n",
       "      <td>North Braddock</td>\n",
       "      <td>PM25_640</td>\n",
       "      <td>36</td>\n",
       "      <td>Good</td>\n",
       "      <td>NaN</td>\n",
       "      <td>NaN</td>\n",
       "    </tr>\n",
       "    <tr>\n",
       "      <th>74928</th>\n",
       "      <td>88692</td>\n",
       "      <td>2025-04-23</td>\n",
       "      <td>Parkway East</td>\n",
       "      <td>PM25_640</td>\n",
       "      <td>27</td>\n",
       "      <td>Good</td>\n",
       "      <td>NaN</td>\n",
       "      <td>NaN</td>\n",
       "    </tr>\n",
       "    <tr>\n",
       "      <th>74929</th>\n",
       "      <td>88693</td>\n",
       "      <td>2025-04-23</td>\n",
       "      <td>Pittsburgh</td>\n",
       "      <td>PM25_640</td>\n",
       "      <td>33</td>\n",
       "      <td>Good</td>\n",
       "      <td>NaN</td>\n",
       "      <td>NaN</td>\n",
       "    </tr>\n",
       "  </tbody>\n",
       "</table>\n",
       "<p>74930 rows × 8 columns</p>\n",
       "</div>"
      ],
      "text/plain": [
       "         _id        date               site parameter  index_value  \\\n",
       "0          1  2016-01-01      Lawrenceville     PM25B           25   \n",
       "1          2  2016-01-01         Flag Plaza        CO            0   \n",
       "2          3  2016-01-01  Harrison Township     OZONE           31   \n",
       "3          4  2016-01-01             Avalon       SO2           10   \n",
       "4          5  2016-01-01            Lincoln      PM25           35   \n",
       "...      ...         ...                ...       ...          ...   \n",
       "74925  88689  2025-04-23           Clairton  PM25_640           37   \n",
       "74926  88690  2025-04-23          Liberty 2  PM25_640           46   \n",
       "74927  88691  2025-04-23     North Braddock  PM25_640           36   \n",
       "74928  88692  2025-04-23       Parkway East  PM25_640           27   \n",
       "74929  88693  2025-04-23         Pittsburgh  PM25_640           33   \n",
       "\n",
       "      description health_advisory health_effects  \n",
       "0            Good             NaN            NaN  \n",
       "1            Good             NaN            NaN  \n",
       "2            Good             NaN            NaN  \n",
       "3            Good             NaN            NaN  \n",
       "4            Good             NaN            NaN  \n",
       "...           ...             ...            ...  \n",
       "74925        Good             NaN            NaN  \n",
       "74926        Good             NaN            NaN  \n",
       "74927        Good             NaN            NaN  \n",
       "74928        Good             NaN            NaN  \n",
       "74929        Good             NaN            NaN  \n",
       "\n",
       "[74930 rows x 8 columns]"
      ]
     },
     "execution_count": 2,
     "metadata": {},
     "output_type": "execute_result"
    }
   ],
   "source": [
    "df = pd.read_csv(r\"C:\\Users\\aluis\\OneDrive\\Desktop\\Air_Quality_Data.csv\")\n",
    "df"
   ]
  },
  {
   "cell_type": "code",
   "execution_count": 3,
   "id": "19dfacfb-8dd7-4a9a-add5-7e27ccdabe8e",
   "metadata": {},
   "outputs": [
    {
     "name": "stdout",
     "output_type": "stream",
     "text": [
      "<class 'pandas.core.frame.DataFrame'>\n",
      "RangeIndex: 74930 entries, 0 to 74929\n",
      "Data columns (total 8 columns):\n",
      " #   Column           Non-Null Count  Dtype \n",
      "---  ------           --------------  ----- \n",
      " 0   _id              74930 non-null  int64 \n",
      " 1   date             74930 non-null  object\n",
      " 2   site             74930 non-null  object\n",
      " 3   parameter        74930 non-null  object\n",
      " 4   index_value      74930 non-null  int64 \n",
      " 5   description      74930 non-null  object\n",
      " 6   health_advisory  5982 non-null   object\n",
      " 7   health_effects   5982 non-null   object\n",
      "dtypes: int64(2), object(6)\n",
      "memory usage: 4.6+ MB\n"
     ]
    }
   ],
   "source": [
    "df.info()"
   ]
  },
  {
   "cell_type": "code",
   "execution_count": 4,
   "id": "e524affd-09e7-489b-acee-324bdc089663",
   "metadata": {},
   "outputs": [
    {
     "data": {
      "text/plain": [
       "site\n",
       "Parkway East             9978\n",
       "North Braddock           9314\n",
       "Lawrenceville 2          6754\n",
       "Liberty 2                6665\n",
       "Harrison Township        6607\n",
       "South Fayette            5519\n",
       "Avalon                   4942\n",
       "Lawrenceville            4918\n",
       "Pittsburgh               4138\n",
       "Flag Plaza               4002\n",
       "Lincoln                  3574\n",
       "Liberty                  3398\n",
       "Glassport High Street    3376\n",
       "Clairton                 1444\n",
       "West Mifflin              301\n",
       "Name: count, dtype: int64"
      ]
     },
     "execution_count": 4,
     "metadata": {},
     "output_type": "execute_result"
    }
   ],
   "source": [
    "df['site'].value_counts()"
   ]
  },
  {
   "cell_type": "code",
   "execution_count": 5,
   "id": "69fb7494-c55d-4948-962e-6d3e0458c0ea",
   "metadata": {},
   "outputs": [
    {
     "data": {
      "text/plain": [
       "parameter\n",
       "SO2         14835\n",
       "PM10        10178\n",
       "CO           9988\n",
       "OZONE        9855\n",
       "PM25T        6606\n",
       "PM25_640     6384\n",
       "NO2          6130\n",
       "PM10_640     3324\n",
       "PM10B        2146\n",
       "PM25         1767\n",
       "PM25B        1539\n",
       "NO2_500      1153\n",
       "PM25(2)       655\n",
       "NO2_200       370\n",
       "Name: count, dtype: int64"
      ]
     },
     "execution_count": 5,
     "metadata": {},
     "output_type": "execute_result"
    }
   ],
   "source": [
    "df['parameter'].value_counts()"
   ]
  },
  {
   "cell_type": "code",
   "execution_count": 6,
   "id": "2ac38138-49ad-429d-bcc3-4b30cb6b84be",
   "metadata": {},
   "outputs": [
    {
     "data": {
      "text/plain": [
       "description\n",
       "Good                              68690\n",
       "Moderate                           6079\n",
       "Unhealthy for Sensitive Groups      141\n",
       "Unhealthy                            18\n",
       "Very Unhealthy                        2\n",
       "Name: count, dtype: int64"
      ]
     },
     "execution_count": 6,
     "metadata": {},
     "output_type": "execute_result"
    }
   ],
   "source": [
    "df['description'].value_counts()"
   ]
  },
  {
   "cell_type": "code",
   "execution_count": 7,
   "id": "068e4118-80eb-440b-bb7c-df3c6c26512f",
   "metadata": {},
   "outputs": [
    {
     "data": {
      "text/plain": [
       "count    74930.000000\n",
       "mean        22.098412\n",
       "std         19.070084\n",
       "min          0.000000\n",
       "25%          6.000000\n",
       "50%         18.000000\n",
       "75%         34.000000\n",
       "max        212.000000\n",
       "Name: index_value, dtype: float64"
      ]
     },
     "execution_count": 7,
     "metadata": {},
     "output_type": "execute_result"
    }
   ],
   "source": [
    "df['index_value'].describe()"
   ]
  },
  {
   "cell_type": "code",
   "execution_count": 8,
   "id": "9f3bd476-063a-4fd8-9736-8e172759fc36",
   "metadata": {},
   "outputs": [
    {
     "data": {
      "image/png": "[encoded data removed]",
      "text/plain": [
       "<Figure size 640x480 with 1 Axes>"
      ]
     },
     "metadata": {},
     "output_type": "display_data"
    }
   ],
   "source": [
    "plt.hist(df['index_value'], bins=30,edgecolor='black')\n",
    "plt.title(\"Distribution of AQI Values\")\n",
    "plt.xlabel(\"Air Quality Index (AQI)\")\n",
    "plt.ylabel(\"Number of Days\")\n",
    "plt.show()"
   ]
  },
  {
   "cell_type": "code",
   "execution_count": 18,
   "id": "d49d15ac-f165-4be6-b2ab-5a8610b30a41",
   "metadata": {},
   "outputs": [],
   "source": [
    "df['date'] = pd.to_datetime(df['date'])"
   ]
  },
  {
   "cell_type": "code",
   "execution_count": 22,
   "id": "03ce066d-0b5f-4692-90ca-f600036b2cb3",
   "metadata": {},
   "outputs": [
    {
     "data": {
      "text/html": [
       "<div>\n",
       "<style scoped>\n",
       "    .dataframe tbody tr th:only-of-type {\n",
       "        vertical-align: middle;\n",
       "    }\n",
       "\n",
       "    .dataframe tbody tr th {\n",
       "        vertical-align: top;\n",
       "    }\n",
       "\n",
       "    .dataframe thead th {\n",
       "        text-align: right;\n",
       "    }\n",
       "</style>\n",
       "<table border=\"1\" class=\"dataframe\">\n",
       "  <thead>\n",
       "    <tr style=\"text-align: right;\">\n",
       "      <th></th>\n",
       "      <th>date</th>\n",
       "    </tr>\n",
       "  </thead>\n",
       "  <tbody>\n",
       "    <tr>\n",
       "      <th>0</th>\n",
       "      <td>2016-01-01</td>\n",
       "    </tr>\n",
       "    <tr>\n",
       "      <th>1</th>\n",
       "      <td>2016-01-01</td>\n",
       "    </tr>\n",
       "    <tr>\n",
       "      <th>2</th>\n",
       "      <td>2016-01-01</td>\n",
       "    </tr>\n",
       "    <tr>\n",
       "      <th>3</th>\n",
       "      <td>2016-01-01</td>\n",
       "    </tr>\n",
       "    <tr>\n",
       "      <th>4</th>\n",
       "      <td>2016-01-01</td>\n",
       "    </tr>\n",
       "    <tr>\n",
       "      <th>...</th>\n",
       "      <td>...</td>\n",
       "    </tr>\n",
       "    <tr>\n",
       "      <th>74925</th>\n",
       "      <td>2025-04-23</td>\n",
       "    </tr>\n",
       "    <tr>\n",
       "      <th>74926</th>\n",
       "      <td>2025-04-23</td>\n",
       "    </tr>\n",
       "    <tr>\n",
       "      <th>74927</th>\n",
       "      <td>2025-04-23</td>\n",
       "    </tr>\n",
       "    <tr>\n",
       "      <th>74928</th>\n",
       "      <td>2025-04-23</td>\n",
       "    </tr>\n",
       "    <tr>\n",
       "      <th>74929</th>\n",
       "      <td>2025-04-23</td>\n",
       "    </tr>\n",
       "  </tbody>\n",
       "</table>\n",
       "<p>74930 rows × 1 columns</p>\n",
       "</div>"
      ],
      "text/plain": [
       "            date\n",
       "0     2016-01-01\n",
       "1     2016-01-01\n",
       "2     2016-01-01\n",
       "3     2016-01-01\n",
       "4     2016-01-01\n",
       "...          ...\n",
       "74925 2025-04-23\n",
       "74926 2025-04-23\n",
       "74927 2025-04-23\n",
       "74928 2025-04-23\n",
       "74929 2025-04-23\n",
       "\n",
       "[74930 rows x 1 columns]"
      ]
     },
     "execution_count": 22,
     "metadata": {},
     "output_type": "execute_result"
    }
   ],
   "source": []
  },
  {
   "cell_type": "code",
   "execution_count": null,
   "id": "8879f93f-1ddc-41dc-87c8-053d17d8df3d",
   "metadata": {},
   "outputs": [],
   "source": []
  }
 ],
 "metadata": {
  "kernelspec": {
   "display_name": "Python 3 (ipykernel)",
   "language": "python",
   "name": "python3"
  },
  "language_info": {
   "codemirror_mode": {
    "name": "ipython",
    "version": 3
   },
   "file_extension": ".py",
   "mimetype": "text/x-python",
   "name": "python",
   "nbconvert_exporter": "python",
   "pygments_lexer": "ipython3",
   "version": "3.12.4"
  }
 },
 "nbformat": 4,
 "nbformat_minor": 5
}
